{
  "nbformat": 4,
  "nbformat_minor": 0,
  "metadata": {
    "colab": {
      "provenance": [],
      "include_colab_link": true
    },
    "kernelspec": {
      "name": "python3",
      "display_name": "Python 3"
    },
    "language_info": {
      "name": "python"
    }
  },
  "cells": [
    {
      "cell_type": "markdown",
      "metadata": {
        "id": "view-in-github",
        "colab_type": "text"
      },
      "source": [
        "<a href=\"https://colab.research.google.com/github/shahdevansh28/ML/blob/main/ML_Lab4.ipynb\" target=\"_parent\"><img src=\"https://colab.research.google.com/assets/colab-badge.svg\" alt=\"Open In Colab\"/></a>"
      ]
    },
    {
      "cell_type": "markdown",
      "source": [
        "Lab_4_0 :- Implement Linear Regression Algorithm on the given dataset"
      ],
      "metadata": {
        "id": "nYLAKVaQUwye"
      }
    },
    {
      "cell_type": "code",
      "execution_count": null,
      "metadata": {
        "id": "8Ab_1rRTrIeo",
        "colab": {
          "base_uri": "https://localhost:8080/"
        },
        "outputId": "18f8a93f-24eb-434d-c5a4-d782d750a597"
      },
      "outputs": [
        {
          "output_type": "stream",
          "name": "stderr",
          "text": [
            "<ipython-input-1-b03dfab00bc1>:33: UserWarning: To copy construct from a tensor, it is recommended to use sourceTensor.clone().detach() or sourceTensor.clone().detach().requires_grad_(True), rather than torch.tensor(sourceTensor).\n",
            "  weights=torch.tensor(weights,requires_grad=True)\n",
            "<ipython-input-1-b03dfab00bc1>:34: UserWarning: To copy construct from a tensor, it is recommended to use sourceTensor.clone().detach() or sourceTensor.clone().detach().requires_grad_(True), rather than torch.tensor(sourceTensor).\n",
            "  bias=torch.tensor(bias,requires_grad=True)\n"
          ]
        },
        {
          "output_type": "stream",
          "name": "stdout",
          "text": [
            "finalLoss :  0.5140117195624043\n",
            "weights :  tensor([[-0.4154],\n",
            "        [ 0.8482],\n",
            "        [ 0.6743]], grad_fn=<SubBackward0>)\n",
            "bias :  tensor([[1.9665],\n",
            "        [1.9777],\n",
            "        [2.0110],\n",
            "        [2.0035],\n",
            "        [2.0254]], grad_fn=<SubBackward0>)\n"
          ]
        }
      ],
      "source": [
        "import numpy as np\n",
        "import torch\n",
        "import torch.nn as nn\n",
        "from torch.utils.data import TensorDataset, DataLoader\n",
        "from torchvision.models import resnet18 as model\n",
        "\n",
        "inputs = np.array(\n",
        "    [[73, 67, 43],\n",
        "    [91, 88, 64],\n",
        "    [87, 134, 58],\n",
        "    [102, 43, 37],\n",
        "    [69, 96, 70]], \n",
        "  dtype='float32')\n",
        "\n",
        "targets = np.array([[56.],[81.],[119.],[22.],[103.]])\n",
        "\n",
        "\n",
        "w=[[1.],[1.],[1.]]\n",
        "b=[[2.],[2.],[2.],[2.],[2.]]\n",
        "\n",
        "learningRate=0.0001\n",
        "iterations=1000\n",
        "\n",
        "m=len(inputs)*1.0\n",
        "\n",
        "weights=torch.tensor(w, requires_grad=True)\n",
        "bias=torch.tensor(b, requires_grad=True)\n",
        "\n",
        "\n",
        "finalLoss=0.0\n",
        "\n",
        "for _ in range(iterations):\n",
        "  weights=torch.tensor(weights,requires_grad=True)\n",
        "  bias=torch.tensor(bias,requires_grad=True)\n",
        "\n",
        "  inputs1=torch.tensor(inputs,requires_grad=False)\n",
        "  y1=torch.tensor(targets)\n",
        "  \n",
        "  hypo=torch.matmul(inputs1,weights)+bias\n",
        "  loss=((hypo-y1)**2)\n",
        "  \n",
        "  myloss=0.0\n",
        "\n",
        "  for row in loss:\n",
        "    myloss+=row[0]\n",
        "  myloss/=2*m\n",
        "  myloss.backward()\n",
        "  # print(\"myloss : \",myloss)\n",
        "  \n",
        "  weights=weights-((weights.grad)*learningRate)\n",
        "  bias=bias-((bias.grad)*learningRate)\n",
        "\n",
        "  finalLoss=myloss.item()\n",
        "print(\"finalLoss : \",finalLoss)\n",
        "print(\"weights : \",weights)\n",
        "print(\"bias : \",bias)\n"
      ]
    },
    {
      "cell_type": "markdown",
      "source": [
        "Lab_4_1"
      ],
      "metadata": {
        "id": "DmM7BhjqU5BR"
      }
    },
    {
      "cell_type": "code",
      "source": [
        "# Import Numpy & PyTorch\n",
        "import numpy as np\n",
        "import torch\n",
        "# Imports\n",
        "import torch.nn as nn\n",
        "\n",
        "# Input (temp, rainfall, humidity)\n",
        "inputs = np.array([[73, 67, 43], [91, 88, 64], [87, 134, 58], [102, 43, 37],[69, 96, 70], [73, 67, 43], [91, 88, 64], [87, 134, 58], [102, 43, 37], [69,96, 70], [73, 67, 43], [91, 88, 64], [87, 134, 58], [102, 43, 37], [69, 96,70]], dtype='float32')\n",
        "# Targets (apples, oranges)\n",
        "targets = np.array([[56, 70], [81, 101], [119, 133], [22, 37], [103, 119],[56, 70], [81, 101], [119, 133], [22, 37], [103, 119],\n",
        "[56, 70], [81, 101], [119, 133], [22, 37], [103, 119]],dtype='float32')\n",
        "\n",
        "inputs = torch.from_numpy(inputs)\n",
        "targets = torch.from_numpy(targets)\n",
        "\n",
        "# Import tensor dataset & data loader\n",
        "from torch.utils.data import TensorDataset, DataLoader\n",
        "\n",
        "dl = DataLoader(inputs)\n",
        "\n",
        "print(dl)\n",
        "\n",
        "model = nn.Linear(3,2)\n",
        "output = model(inputs)\n",
        "\n",
        "print(output.shape)\n",
        "\n",
        "\n",
        "optimizer = torch.optim.SGD(model.parameters(), lr=0.1, momentum=0.9)\n",
        "optimizer.zero_grad()\n",
        "optimizer.loss_fn(model(inputs), targets).backward()\n",
        "optimizer.step()"
      ],
      "metadata": {
        "colab": {
          "base_uri": "https://localhost:8080/",
          "height": 252
        },
        "id": "feopVqlpU-gF",
        "outputId": "8384e2ee-e69e-4c94-a82a-d0b56a1a9a60"
      },
      "execution_count": null,
      "outputs": [
        {
          "output_type": "stream",
          "name": "stdout",
          "text": [
            "<torch.utils.data.dataloader.DataLoader object at 0x7fc1e4e03790>\n",
            "torch.Size([15, 2])\n"
          ]
        },
        {
          "output_type": "error",
          "ename": "AttributeError",
          "evalue": "ignored",
          "traceback": [
            "\u001b[0;31m---------------------------------------------------------------------------\u001b[0m",
            "\u001b[0;31mAttributeError\u001b[0m                            Traceback (most recent call last)",
            "\u001b[0;32m<ipython-input-23-12e319e0bd85>\u001b[0m in \u001b[0;36m<module>\u001b[0;34m\u001b[0m\n\u001b[1;32m     29\u001b[0m \u001b[0moptimizer\u001b[0m \u001b[0;34m=\u001b[0m \u001b[0mtorch\u001b[0m\u001b[0;34m.\u001b[0m\u001b[0moptim\u001b[0m\u001b[0;34m.\u001b[0m\u001b[0mSGD\u001b[0m\u001b[0;34m(\u001b[0m\u001b[0mmodel\u001b[0m\u001b[0;34m.\u001b[0m\u001b[0mparameters\u001b[0m\u001b[0;34m(\u001b[0m\u001b[0;34m)\u001b[0m\u001b[0;34m,\u001b[0m \u001b[0mlr\u001b[0m\u001b[0;34m=\u001b[0m\u001b[0;36m0.1\u001b[0m\u001b[0;34m,\u001b[0m \u001b[0mmomentum\u001b[0m\u001b[0;34m=\u001b[0m\u001b[0;36m0.9\u001b[0m\u001b[0;34m)\u001b[0m\u001b[0;34m\u001b[0m\u001b[0;34m\u001b[0m\u001b[0m\n\u001b[1;32m     30\u001b[0m \u001b[0moptimizer\u001b[0m\u001b[0;34m.\u001b[0m\u001b[0mzero_grad\u001b[0m\u001b[0;34m(\u001b[0m\u001b[0;34m)\u001b[0m\u001b[0;34m\u001b[0m\u001b[0;34m\u001b[0m\u001b[0m\n\u001b[0;32m---> 31\u001b[0;31m \u001b[0moptimizer\u001b[0m\u001b[0;34m.\u001b[0m\u001b[0mloss_fn\u001b[0m\u001b[0;34m(\u001b[0m\u001b[0mmodel\u001b[0m\u001b[0;34m(\u001b[0m\u001b[0minputs\u001b[0m\u001b[0;34m)\u001b[0m\u001b[0;34m,\u001b[0m \u001b[0mtargets\u001b[0m\u001b[0;34m)\u001b[0m\u001b[0;34m.\u001b[0m\u001b[0mbackward\u001b[0m\u001b[0;34m(\u001b[0m\u001b[0;34m)\u001b[0m\u001b[0;34m\u001b[0m\u001b[0;34m\u001b[0m\u001b[0m\n\u001b[0m\u001b[1;32m     32\u001b[0m \u001b[0moptimizer\u001b[0m\u001b[0;34m.\u001b[0m\u001b[0mstep\u001b[0m\u001b[0;34m(\u001b[0m\u001b[0;34m)\u001b[0m\u001b[0;34m\u001b[0m\u001b[0;34m\u001b[0m\u001b[0m\n",
            "\u001b[0;31mAttributeError\u001b[0m: 'SGD' object has no attribute 'loss_fn'"
          ]
        }
      ]
    }
  ]
}