{
  "nbformat": 4,
  "nbformat_minor": 0,
  "metadata": {
    "colab": {
      "provenance": [],
      "authorship_tag": "ABX9TyPApCM1LH0eLArmBYJ2QfOO",
      "include_colab_link": true
    },
    "kernelspec": {
      "name": "python3",
      "display_name": "Python 3"
    },
    "language_info": {
      "name": "python"
    }
  },
  "cells": [
    {
      "cell_type": "markdown",
      "metadata": {
        "id": "view-in-github",
        "colab_type": "text"
      },
      "source": [
        "<a href=\"https://colab.research.google.com/github/shahdevansh28/ML/blob/main/ML_Lab9.ipynb\" target=\"_parent\"><img src=\"https://colab.research.google.com/assets/colab-badge.svg\" alt=\"Open In Colab\"/></a>"
      ]
    },
    {
      "cell_type": "code",
      "execution_count": null,
      "metadata": {
        "colab": {
          "base_uri": "https://localhost:8080/"
        },
        "id": "1BLq-XgA-eQj",
        "outputId": "47bf56dd-53b7-4690-fe9f-4db93f0ee3f6"
      },
      "outputs": [
        {
          "output_type": "stream",
          "name": "stdout",
          "text": [
            "[[ 2.17058568  0.85600391]\n",
            " [ 0.79717677  4.38116783]\n",
            " [ 2.24471791  0.86666164]\n",
            " [ 0.65349051  4.26123927]\n",
            " [ 0.76655949  4.01978374]\n",
            " [ 0.90668765  4.33505712]\n",
            " [-1.75639774  2.83031825]\n",
            " [-1.33701985  2.93539251]\n",
            " [ 2.18972647  0.97915603]\n",
            " [ 0.84940566  4.23123909]\n",
            " [ 1.12208819  4.32958391]\n",
            " [ 1.22232821  4.5442633 ]\n",
            " [ 2.14840001  0.59041492]\n",
            " [ 1.28282592  4.59765908]\n",
            " [-1.67585498  2.75259455]\n",
            " [ 2.42877931  1.07887259]\n",
            " [-1.54659452  2.7851866 ]\n",
            " [ 0.81364082  3.95853081]\n",
            " [-1.54055233  3.26055081]\n",
            " [-1.74778068  2.92831528]\n",
            " [-1.65562769  2.47320163]\n",
            " [-1.53476058  2.68426356]\n",
            " [-1.39887771  2.59449105]\n",
            " [ 0.79871293  3.90762803]\n",
            " [ 1.841117    1.10855401]\n",
            " [ 2.08064994  0.97806153]\n",
            " [ 1.90128431  1.0055135 ]\n",
            " [ 1.82223755  1.07782896]\n",
            " [-1.60074038  2.87000643]\n",
            " [-1.3725459   3.08258309]\n",
            " [ 1.00507879  4.59464203]\n",
            " [ 2.35291796  1.2768415 ]\n",
            " [ 1.97254373  0.7481727 ]\n",
            " [ 1.27508589  4.26275567]\n",
            " [-1.61801051  2.92137809]\n",
            " [-1.05027506  3.10677816]\n",
            " [ 0.95562631  4.38590703]\n",
            " [ 1.92040099  0.90402977]\n",
            " [ 2.1265408   1.03897829]\n",
            " [-1.67481661  3.22648518]\n",
            " [-1.30157683  2.70189596]\n",
            " [ 2.13573585  0.76070164]\n",
            " [ 2.11491516  1.16294084]\n",
            " [ 0.63501604  4.69394241]\n",
            " [ 1.00725956  4.37941983]\n",
            " [ 0.87433964  4.21617247]\n",
            " [ 1.88110809  0.78189373]\n",
            " [ 1.91635395  0.86773675]\n",
            " [-1.70946846  3.14128552]\n",
            " [-1.42224868  2.883573  ]\n",
            " [-1.09425682  3.18518785]\n",
            " [ 1.92809831  1.03295032]\n",
            " [ 0.79481041  4.31417641]\n",
            " [ 2.09692252  1.09299147]\n",
            " [-1.6265105   3.30378867]\n",
            " [-1.35553789  2.78767714]\n",
            " [ 2.29102344  0.86167869]\n",
            " [ 2.05736753  1.25483776]\n",
            " [ 0.98542178  4.26635056]\n",
            " [ 2.43189766  0.62811185]\n",
            " [ 1.80117052  1.091543  ]\n",
            " [-1.7854754   2.97129244]\n",
            " [-1.68758595  2.77997231]\n",
            " [-1.49356931  3.04488855]\n",
            " [-1.82515553  3.0057606 ]\n",
            " [ 1.97463213  1.14215267]\n",
            " [ 1.12847762  4.32812233]\n",
            " [-1.72694708  2.60892804]\n",
            " [ 1.99295702  0.90889673]\n",
            " [ 1.16628776  4.27351589]\n",
            " [-1.34273225  2.98162779]\n",
            " [ 1.430221    4.01291419]\n",
            " [ 0.46567212  4.43451105]\n",
            " [ 2.43985593  1.19376662]\n",
            " [ 1.88302238  1.27967665]\n",
            " [ 1.20415022  4.05682216]\n",
            " [ 1.01175531  4.22343114]\n",
            " [ 0.84177799  4.2318767 ]\n",
            " [-1.5977028   2.642892  ]\n",
            " [ 2.13055263  0.6777835 ]\n",
            " [ 0.72571101  4.4592854 ]\n",
            " [ 0.98957352  4.36428171]\n",
            " [ 2.00166685  1.05815494]\n",
            " [ 0.65023041  4.39634378]\n",
            " [ 1.82064284  1.2863879 ]\n",
            " [ 1.06504273  4.37052219]\n",
            " [ 0.97063363  4.3894537 ]\n",
            " [ 0.87410905  4.06766089]\n",
            " [ 2.1780834   1.08210499]\n",
            " [ 0.89880472  4.24332678]\n",
            " [ 1.96823681  1.26751641]\n",
            " [ 2.13446886  0.67905136]\n",
            " [-1.30697209  3.04893501]\n",
            " [-1.73375258  3.05420116]\n",
            " [-1.7900855   2.82556534]\n",
            " [-1.28929805  2.98127078]\n",
            " [ 1.03888362  4.13296818]\n",
            " [ 1.14915732  4.15535432]\n",
            " [-1.40185772  2.59747073]\n",
            " [-1.77199112  3.08675486]] \n",
            "\n",
            "[1 0 1 0 0 0 2 2 1 0 0 0 1 0 2 1 2 0 2 2 2 2 2 0 1 1 1 1 2 2 0 1 1 0 2 2 0\n",
            " 1 1 2 2 1 1 0 0 0 1 1 2 2 2 1 0 1 2 2 1 1 0 1 1 2 2 2 2 1 0 2 1 0 2 0 0 1\n",
            " 1 0 0 0 2 1 0 0 1 0 1 0 0 0 1 0 1 1 2 2 2 2 0 0 2 2]\n"
          ]
        }
      ],
      "source": [
        "from sklearn.datasets import make_blobs\n",
        "X, y = make_blobs(n_samples=100, centers=3, n_features=2,cluster_std=0.2, random_state=0)\n",
        "print(X,\"\\n\")\n",
        "print(y)"
      ]
    },
    {
      "cell_type": "code",
      "source": [
        "import matplotlib.pyplot as plt\n",
        "%matplotlib inline\n",
        "\n",
        "plt.scatter(x = [X[0] for X in X],y = [X[1] for X in X])\n",
        "plt.show()\n"
      ],
      "metadata": {
        "colab": {
          "base_uri": "https://localhost:8080/",
          "height": 265
        },
        "id": "98erQctc_ucm",
        "outputId": "80865ba8-89dd-4edb-c557-c21581a3ccfe"
      },
      "execution_count": null,
      "outputs": [
        {
          "output_type": "display_data",
          "data": {
            "text/plain": [
              "<Figure size 432x288 with 1 Axes>"
            ],
            "image/png": "[encoded data removed]"
          },
          "metadata": {
            "needs_background": "light"
          }
        }
      ]
    },
    {
      "cell_type": "code",
      "source": [
        "from sklearn.cluster import KMeans\n",
        "\n",
        "# Specify the number of clusters (3) and fit the data X\n",
        "kmeans = KMeans(n_clusters = 3).fit(X)\n",
        "\n",
        "# Get the cluster centroids\n",
        "centers = kmeans.cluster_centers_\n",
        "print(centers)\n",
        "\n",
        "# Get the cluster labels\n",
        "labels = kmeans.labels_\n",
        "print(labels)\n",
        "\n",
        "\n",
        "# Plotting the cluster centers and the data points on a 2D plane\n",
        "plt.scatter(centers[:,0],centers[:,1])"
      ],
      "metadata": {
        "colab": {
          "base_uri": "https://localhost:8080/",
          "height": 387
        },
        "id": "J7l5FbZjBMxu",
        "outputId": "b4741598-ca5f-403c-e888-d4aedb6bf06f"
      },
      "execution_count": null,
      "outputs": [
        {
          "output_type": "stream",
          "name": "stdout",
          "text": [
            "[[ 2.0720792   0.98848385]\n",
            " [-1.538563    2.91165191]\n",
            " [ 0.95164831  4.28882085]]\n",
            "[0 2 0 2 2 2 1 1 0 2 2 2 0 2 1 0 1 2 1 1 1 1 1 2 0 0 0 0 1 1 2 0 0 2 1 1 2\n",
            " 0 0 1 1 0 0 2 2 2 0 0 1 1 1 0 2 0 1 1 0 0 2 0 0 1 1 1 1 0 2 1 0 2 1 2 2 0\n",
            " 0 2 2 2 1 0 2 2 0 2 0 2 2 2 0 2 0 0 1 1 1 1 2 2 1 1]\n"
          ]
        },
        {
          "output_type": "execute_result",
          "data": {
            "text/plain": [
              "<matplotlib.collections.PathCollection at 0x7f11beccfb20>"
            ]
          },
          "metadata": {},
          "execution_count": 24
        },
        {
          "output_type": "display_data",
          "data": {
            "text/plain": [
              "<Figure size 432x288 with 1 Axes>"
            ],
            "image/png": "[encoded data removed]"
          },
          "metadata": {
            "needs_background": "light"
          }
        }
      ]
    },
    {
      "cell_type": "code",
      "source": [
        "from sklearn.metrics import silhouette_score\n",
        "\n",
        "\n",
        "score = silhouette_score(X,y)\n",
        "print(score)"
      ],
      "metadata": {
        "colab": {
          "base_uri": "https://localhost:8080/"
        },
        "id": "0m4Us4gSId8i",
        "outputId": "a33787b5-3cbd-42a9-d939-6feb65cb3566"
      },
      "execution_count": null,
      "outputs": [
        {
          "output_type": "stream",
          "name": "stdout",
          "text": [
            "0.8816040239688525\n"
          ]
        }
      ]
    },
    {
      "cell_type": "code",
      "source": [
        "# Import the KElbowVisualizer method\n",
        "from yellowbrick.cluster import KElbowVisualizer\n",
        "# Instantiate a scikit-learn K-Means model\n",
        "model = KMeans()\n",
        "# Instantiate the KElbowVisualizer with the number of clusters and the metric\n",
        "\n",
        "# Fit the data and visualize\n",
        "visualizer = KElbowVisualizer(model)\n",
        "\n",
        "visualizer.fit(X)\n",
        "visualizer.show()"
      ],
      "metadata": {
        "colab": {
          "base_uri": "https://localhost:8080/",
          "height": 393
        },
        "id": "UMa_d9upJKca",
        "outputId": "78a72bb4-7616-40b9-f5c4-583f1b868f87"
      },
      "execution_count": null,
      "outputs": [
        {
          "output_type": "display_data",
          "data": {
            "text/plain": [
              "<Figure size 576x396 with 2 Axes>"
            ],
            "image/png": "[encoded data removed]"
          },
          "metadata": {}
        },
        {
          "output_type": "execute_result",
          "data": {
            "text/plain": [
              "<matplotlib.axes._subplots.AxesSubplot at 0x7f11bc0be070>"
            ]
          },
          "metadata": {},
          "execution_count": 27
        }
      ]
    },
    {
      "cell_type": "markdown",
      "source": [
        "**Hand Written Digit Recognition**"
      ],
      "metadata": {
        "id": "hIFiNV-dMCux"
      }
    },
    {
      "cell_type": "code",
      "source": [
        "import numpy as np # linear algebra\n",
        "import pandas as pd # data processing, CSV file I/O (e.g. pd.read_csv)\n",
        "from sklearn.cluster import KMeans\n",
        "from sklearn.datasets import load_digits\n",
        "import matplotlib.pyplot as plt\n",
        "import seaborn as sns\n",
        "from scipy.stats import mode\n",
        "from sklearn.metrics import accuracy_score, confusion_matrix"
      ],
      "metadata": {
        "id": "uecTbJ5kMFSg"
      },
      "execution_count": null,
      "outputs": []
    },
    {
      "cell_type": "code",
      "source": [
        "digits = load_digits()\n",
        "print(digits)"
      ],
      "metadata": {
        "colab": {
          "base_uri": "https://localhost:8080/"
        },
        "id": "zgMKsjabMR_4",
        "outputId": "88092439-3277-4a7a-c0fa-cdd9ef52b1b9"
      },
      "execution_count": null,
      "outputs": [
        {
          "output_type": "stream",
          "name": "stdout",
          "text": [
            "{'data': array([[ 0.,  0.,  5., ...,  0.,  0.,  0.],\n",
            "       [ 0.,  0.,  0., ..., 10.,  0.,  0.],\n",
            "       [ 0.,  0.,  0., ..., 16.,  9.,  0.],\n",
            "       ...,\n",
            "       [ 0.,  0.,  1., ...,  6.,  0.,  0.],\n",
            "       [ 0.,  0.,  2., ..., 12.,  0.,  0.],\n",
            "       [ 0.,  0., 10., ..., 12.,  1.,  0.]]), 'target': array([0, 1, 2, ..., 8, 9, 8]), 'frame': None, 'feature_names': ['pixel_0_0', 'pixel_0_1', 'pixel_0_2', 'pixel_0_3', 'pixel_0_4', 'pixel_0_5', 'pixel_0_6', 'pixel_0_7', 'pixel_1_0', 'pixel_1_1', 'pixel_1_2', 'pixel_1_3', 'pixel_1_4', 'pixel_1_5', 'pixel_1_6', 'pixel_1_7', 'pixel_2_0', 'pixel_2_1', 'pixel_2_2', 'pixel_2_3', 'pixel_2_4', 'pixel_2_5', 'pixel_2_6', 'pixel_2_7', 'pixel_3_0', 'pixel_3_1', 'pixel_3_2', 'pixel_3_3', 'pixel_3_4', 'pixel_3_5', 'pixel_3_6', 'pixel_3_7', 'pixel_4_0', 'pixel_4_1', 'pixel_4_2', 'pixel_4_3', 'pixel_4_4', 'pixel_4_5', 'pixel_4_6', 'pixel_4_7', 'pixel_5_0', 'pixel_5_1', 'pixel_5_2', 'pixel_5_3', 'pixel_5_4', 'pixel_5_5', 'pixel_5_6', 'pixel_5_7', 'pixel_6_0', 'pixel_6_1', 'pixel_6_2', 'pixel_6_3', 'pixel_6_4', 'pixel_6_5', 'pixel_6_6', 'pixel_6_7', 'pixel_7_0', 'pixel_7_1', 'pixel_7_2', 'pixel_7_3', 'pixel_7_4', 'pixel_7_5', 'pixel_7_6', 'pixel_7_7'], 'target_names': array([0, 1, 2, 3, 4, 5, 6, 7, 8, 9]), 'images': array([[[ 0.,  0.,  5., ...,  1.,  0.,  0.],\n",
            "        [ 0.,  0., 13., ..., 15.,  5.,  0.],\n",
            "        [ 0.,  3., 15., ..., 11.,  8.,  0.],\n",
            "        ...,\n",
            "        [ 0.,  4., 11., ..., 12.,  7.,  0.],\n",
            "        [ 0.,  2., 14., ..., 12.,  0.,  0.],\n",
            "        [ 0.,  0.,  6., ...,  0.,  0.,  0.]],\n",
            "\n",
            "       [[ 0.,  0.,  0., ...,  5.,  0.,  0.],\n",
            "        [ 0.,  0.,  0., ...,  9.,  0.,  0.],\n",
            "        [ 0.,  0.,  3., ...,  6.,  0.,  0.],\n",
            "        ...,\n",
            "        [ 0.,  0.,  1., ...,  6.,  0.,  0.],\n",
            "        [ 0.,  0.,  1., ...,  6.,  0.,  0.],\n",
            "        [ 0.,  0.,  0., ..., 10.,  0.,  0.]],\n",
            "\n",
            "       [[ 0.,  0.,  0., ..., 12.,  0.,  0.],\n",
            "        [ 0.,  0.,  3., ..., 14.,  0.,  0.],\n",
            "        [ 0.,  0.,  8., ..., 16.,  0.,  0.],\n",
            "        ...,\n",
            "        [ 0.,  9., 16., ...,  0.,  0.,  0.],\n",
            "        [ 0.,  3., 13., ..., 11.,  5.,  0.],\n",
            "        [ 0.,  0.,  0., ..., 16.,  9.,  0.]],\n",
            "\n",
            "       ...,\n",
            "\n",
            "       [[ 0.,  0.,  1., ...,  1.,  0.,  0.],\n",
            "        [ 0.,  0., 13., ...,  2.,  1.,  0.],\n",
            "        [ 0.,  0., 16., ..., 16.,  5.,  0.],\n",
            "        ...,\n",
            "        [ 0.,  0., 16., ..., 15.,  0.,  0.],\n",
            "        [ 0.,  0., 15., ..., 16.,  0.,  0.],\n",
            "        [ 0.,  0.,  2., ...,  6.,  0.,  0.]],\n",
            "\n",
            "       [[ 0.,  0.,  2., ...,  0.,  0.,  0.],\n",
            "        [ 0.,  0., 14., ..., 15.,  1.,  0.],\n",
            "        [ 0.,  4., 16., ..., 16.,  7.,  0.],\n",
            "        ...,\n",
            "        [ 0.,  0.,  0., ..., 16.,  2.,  0.],\n",
            "        [ 0.,  0.,  4., ..., 16.,  2.,  0.],\n",
            "        [ 0.,  0.,  5., ..., 12.,  0.,  0.]],\n",
            "\n",
            "       [[ 0.,  0., 10., ...,  1.,  0.,  0.],\n",
            "        [ 0.,  2., 16., ...,  1.,  0.,  0.],\n",
            "        [ 0.,  0., 15., ..., 15.,  0.,  0.],\n",
            "        ...,\n",
            "        [ 0.,  4., 16., ..., 16.,  6.,  0.],\n",
            "        [ 0.,  8., 16., ..., 16.,  8.,  0.],\n",
            "        [ 0.,  1.,  8., ..., 12.,  1.,  0.]]]), 'DESCR': \".. _digits_dataset:\\n\\nOptical recognition of handwritten digits dataset\\n--------------------------------------------------\\n\\n**Data Set Characteristics:**\\n\\n    :Number of Instances: 1797\\n    :Number of Attributes: 64\\n    :Attribute Information: 8x8 image of integer pixels in the range 0..16.\\n    :Missing Attribute Values: None\\n    :Creator: E. Alpaydin (alpaydin '@' boun.edu.tr)\\n    :Date: July; 1998\\n\\nThis is a copy of the test set of the UCI ML hand-written digits datasets\\nhttps://archive.ics.uci.edu/ml/datasets/Optical+Recognition+of+Handwritten+Digits\\n\\nThe data set contains images of hand-written digits: 10 classes where\\neach class refers to a digit.\\n\\nPreprocessing programs made available by NIST were used to extract\\nnormalized bitmaps of handwritten digits from a preprinted form. From a\\ntotal of 43 people, 30 contributed to the training set and different 13\\nto the test set. 32x32 bitmaps are divided into nonoverlapping blocks of\\n4x4 and the number of on pixels are counted in each block. This generates\\nan input matrix of 8x8 where each element is an integer in the range\\n0..16. This reduces dimensionality and gives invariance to small\\ndistortions.\\n\\nFor info on NIST preprocessing routines, see M. D. Garris, J. L. Blue, G.\\nT. Candela, D. L. Dimmick, J. Geist, P. J. Grother, S. A. Janet, and C.\\nL. Wilson, NIST Form-Based Handprint Recognition System, NISTIR 5469,\\n1994.\\n\\n.. topic:: References\\n\\n  - C. Kaynak (1995) Methods of Combining Multiple Classifiers and Their\\n    Applications to Handwritten Digit Recognition, MSc Thesis, Institute of\\n    Graduate Studies in Science and Engineering, Bogazici University.\\n  - E. Alpaydin, C. Kaynak (1998) Cascading Classifiers, Kybernetika.\\n  - Ken Tang and Ponnuthurai N. Suganthan and Xi Yao and A. Kai Qin.\\n    Linear dimensionalityreduction using relevance weighted LDA. School of\\n    Electrical and Electronic Engineering Nanyang Technological University.\\n    2005.\\n  - Claudio Gentile. A New Approximate Maximal Margin Classification\\n    Algorithm. NIPS. 2000.\\n\"}\n"
          ]
        }
      ]
    },
    {
      "cell_type": "code",
      "source": [
        "digits.keys() #Dataset loaded is a dictionary\n",
        "# data : flattened arrays/tensors used for clustering\n",
        "# target : label associated with flattened array\n",
        "print(digits.data)\n",
        "print(digits.target)"
      ],
      "metadata": {
        "colab": {
          "base_uri": "https://localhost:8080/"
        },
        "id": "IQxNGNCsMiDQ",
        "outputId": "33eba7db-6c99-4e8e-ccfd-8e0b0b1a7d84"
      },
      "execution_count": null,
      "outputs": [
        {
          "output_type": "stream",
          "name": "stdout",
          "text": [
            "[[ 0.  0.  5. ...  0.  0.  0.]\n",
            " [ 0.  0.  0. ... 10.  0.  0.]\n",
            " [ 0.  0.  0. ... 16.  9.  0.]\n",
            " ...\n",
            " [ 0.  0.  1. ...  6.  0.  0.]\n",
            " [ 0.  0.  2. ... 12.  0.  0.]\n",
            " [ 0.  0. 10. ... 12.  1.  0.]]\n",
            "[0 1 2 ... 8 9 8]\n"
          ]
        }
      ]
    },
    {
      "cell_type": "code",
      "source": [],
      "metadata": {
        "id": "h5t--3tRNNKg"
      },
      "execution_count": null,
      "outputs": []
    }
  ]
}