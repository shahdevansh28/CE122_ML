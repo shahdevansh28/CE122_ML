{
  "nbformat": 4,
  "nbformat_minor": 0,
  "metadata": {
    "colab": {
      "provenance": [],
      "authorship_tag": "ABX9TyMDpPl1e+thfjb8lyrhThQf",
      "include_colab_link": true
    },
    "kernelspec": {
      "name": "python3",
      "display_name": "Python 3"
    },
    "language_info": {
      "name": "python"
    }
  },
  "cells": [
    {
      "cell_type": "markdown",
      "metadata": {
        "id": "view-in-github",
        "colab_type": "text"
      },
      "source": [
        "<a href=\"https://colab.research.google.com/github/shahdevansh28/ML/blob/main/ML_Lab3.ipynb\" target=\"_parent\"><img src=\"https://colab.research.google.com/assets/colab-badge.svg\" alt=\"Open In Colab\"/></a>"
      ]
    },
    {
      "cell_type": "markdown",
      "source": [
        "NaiveBase Classifier:Weather"
      ],
      "metadata": {
        "id": "TlDGGpvM5FhS"
      }
    },
    {
      "cell_type": "code",
      "source": [
        "from sklearn import preprocessing\n",
        "from sklearn.naive_bayes import GaussianNB, CategoricalNB\n",
        "\n",
        "weather = ['Sunny', 'Sunny', 'Overcast', 'Rainy', 'Rainy','Rainy', 'Overcast','Sunny', 'Sunny', 'Rainy', 'Sunny', 'Overcast', 'Overcast', 'Rainy']\n",
        "temp = ['Hot','Hot','Hot','Mild','Cool','Cool','Cool','Mild','Cool','Mild','Mild','Mild','Hot','Mild']\n",
        "play = ['No','No','Yes','Yes','Yes','No','Yes','No','Yes','Yes','Yes','Yes','Yes','No']\n",
        "\n",
        "le = preprocessing.LabelEncoder()\n",
        "\n",
        "weather_encoding = le.fit_transform(weather)\n",
        "temp_encoding = le.fit_transform(temp)\n",
        "label = le.fit_transform(play)\n",
        "\n",
        "print(weather_encoding)\n",
        "print(temp_encoding)\n",
        "#print(play_encoding)\n",
        "\n",
        "features = tuple(zip(weather_encoding,temp_encoding))\n",
        "print(\"Features:\",features)\n",
        "\n",
        "model = CategoricalNB(alpha=0)\n",
        "model.fit(features,label)\n",
        "#print(predict_proba(predict))\n",
        "predicted= model.predict([[1,0]])\n",
        "#print(predicted)\n",
        "#print(model.predict_proba([[1,0]]))\n",
        "\n",
        "\n",
        "#1.5.1 (1) Will you play if the temperature is ‘Hot’ and weather is ‘overcast’?\n",
        "predicted= model.predict([[1,0]])\n",
        "print(\"1.5.1\")\n",
        "print(predicted)\n",
        "print(model.predict_proba([[1,0]]))\n",
        "\n",
        "#1.5.2 (2) Will you play if the temperature is ‘Mild’ and weather is ‘Sunny’?\n",
        "predicted= model.predict([[2,2]])\n",
        "print(\"1.5.2\")\n",
        "print(predicted)\n",
        "print(model.predict_proba([[2,2]]))\n"
      ],
      "metadata": {
        "colab": {
          "base_uri": "https://localhost:8080/"
        },
        "id": "zkwXF1z_5OJP",
        "outputId": "24c13430-cf71-4f50-9393-56d3c0b56d21"
      },
      "execution_count": null,
      "outputs": [
        {
          "output_type": "stream",
          "name": "stdout",
          "text": [
            "[2 2 0 1 1 1 0 2 2 1 2 0 0 1]\n",
            "[1 1 1 2 0 0 0 2 0 2 2 2 1 2]\n",
            "Features: ((2, 1), (2, 1), (0, 1), (1, 2), (1, 0), (1, 0), (0, 0), (2, 2), (2, 0), (1, 2), (2, 2), (0, 2), (0, 1), (1, 2))\n",
            "1.5.1\n",
            "[1]\n",
            "[[0.28571429 0.71428571]]\n",
            "1.5.2\n",
            "[0]\n",
            "[[0.57446809 0.42553191]]\n"
          ]
        },
        {
          "output_type": "stream",
          "name": "stderr",
          "text": [
            "/usr/local/lib/python3.8/dist-packages/sklearn/naive_bayes.py:555: UserWarning: alpha too small will result in numeric errors, setting alpha = 1.0e-10\n",
            "  warnings.warn(\n"
          ]
        }
      ]
    }
  ]
}