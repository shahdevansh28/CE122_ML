{
  "nbformat": 4,
  "nbformat_minor": 0,
  "metadata": {
    "colab": {
      "provenance": [],
      "authorship_tag": "ABX9TyP1N82mcMg2VMGbCiraA6lL",
      "include_colab_link": true
    },
    "kernelspec": {
      "name": "python3",
      "display_name": "Python 3"
    },
    "language_info": {
      "name": "python"
    }
  },
  "cells": [
    {
      "cell_type": "markdown",
      "metadata": {
        "id": "view-in-github",
        "colab_type": "text"
      },
      "source": [
        "<a href=\"https://colab.research.google.com/github/shahdevansh28/ML/blob/main/ML_Lab1.ipynb\" target=\"_parent\"><img src=\"https://colab.research.google.com/assets/colab-badge.svg\" alt=\"Open In Colab\"/></a>"
      ]
    },
    {
      "cell_type": "code",
      "execution_count": null,
      "metadata": {
        "colab": {
          "base_uri": "https://localhost:8080/"
        },
        "id": "0BS8-IGwhzgv",
        "outputId": "0338ae90-e6ff-4cbb-d54c-ade561c96200"
      },
      "outputs": [
        {
          "output_type": "stream",
          "name": "stdout",
          "text": [
            "[1, 2, 3, 4, 5]\n",
            "[1 2 3 4 5]\n"
          ]
        }
      ],
      "source": [
        "import numpy as np\n",
        "numbers = [1,2,3,4,5]\n",
        "np_numbers = np.array([1,2,3,4,5])\n",
        "print(numbers)\n",
        "print(np_numbers)"
      ]
    },
    {
      "cell_type": "code",
      "source": [
        "import numpy as np\n",
        "#numbers = [1,2,3,4,5]\n",
        "np_numbers1 = np.array([[1,2],[3,4]])\n",
        "np_numbers2 = np.array([[4,5],[6,7]])\n",
        "#print(numbers)\n",
        "\n",
        "print(np.multiply(np_numbers1,np_numbers2))"
      ],
      "metadata": {
        "colab": {
          "base_uri": "https://localhost:8080/"
        },
        "id": "JLjekL-IjiVu",
        "outputId": "e9ef8847-ae0a-4f61-972b-0ff03c3edbc6"
      },
      "execution_count": null,
      "outputs": [
        {
          "output_type": "stream",
          "name": "stdout",
          "text": [
            "[[ 4 10]\n",
            " [18 28]]\n"
          ]
        }
      ]
    },
    {
      "cell_type": "code",
      "source": [
        "import numpy as np\n",
        "#numbers = [1,2,3,4,5]\n",
        "np_numbers1 = np.array([[1,2],[3,4]])\n",
        "np_numbers2 = np.array([[4,5],[6,7]])\n",
        "\n",
        "print(np.dot(np_numbers1,np_numbers2))"
      ],
      "metadata": {
        "colab": {
          "base_uri": "https://localhost:8080/"
        },
        "id": "HNnefpRTllSS",
        "outputId": "52e8c5a1-7100-4474-e5ca-d6437af8901c"
      },
      "execution_count": null,
      "outputs": [
        {
          "output_type": "stream",
          "name": "stdout",
          "text": [
            "[[16 19]\n",
            " [36 43]]\n"
          ]
        }
      ]
    },
    {
      "cell_type": "code",
      "source": [
        "import numpy as np\n",
        "#numbers = [1,2,3,4,5]\n",
        "np_numbers1 = np.array([[1,2],[3,4]])\n",
        "np_numbers2 = np.array([[4,5],[6,7]])\n",
        "\n",
        "print(np_numbers1@np_numbers2)"
      ],
      "metadata": {
        "colab": {
          "base_uri": "https://localhost:8080/"
        },
        "id": "ZHi2QlTqnJHq",
        "outputId": "570c5e3f-3224-4fe4-e2e0-3e7cf10d8e4a"
      },
      "execution_count": null,
      "outputs": [
        {
          "output_type": "stream",
          "name": "stdout",
          "text": [
            "[[16 19]\n",
            " [36 43]]\n"
          ]
        }
      ]
    },
    {
      "cell_type": "code",
      "source": [
        "import numpy as np\n",
        "#numbers = [1,2,3,4,5]\n",
        "np_numbers1 = np.array([[1,2],[3,4]])\n",
        "np_numbers2 = np.array([[4,5],[6,7]])\n",
        "print(np.sum(np_numbers1))\n",
        "print(np.sum(np_numbers2))"
      ],
      "metadata": {
        "colab": {
          "base_uri": "https://localhost:8080/"
        },
        "id": "856naahSmpA5",
        "outputId": "5e4449b1-92a6-4b20-a0d1-281b205622f9"
      },
      "execution_count": null,
      "outputs": [
        {
          "output_type": "stream",
          "name": "stdout",
          "text": [
            "10\n",
            "22\n"
          ]
        }
      ]
    },
    {
      "cell_type": "code",
      "source": [
        "import numpy as np\n",
        "#numbers = [1,2,3,4,5]\n",
        "np_numbers1 = np.array([[1,2],[3,4]])\n",
        "np_numbers2 = np.array([[4,5],[6,7]])\n",
        "print(np.sum(np_numbers1,axis=0))\n",
        "print(np.sum(np_numbers2,axis=0))\n",
        "print(np.sum(np_numbers1,axis=1))\n",
        "print(np.sum(np_numbers2,axis=1))"
      ],
      "metadata": {
        "colab": {
          "base_uri": "https://localhost:8080/"
        },
        "id": "WiibqrJuokEy",
        "outputId": "2f746742-a9c5-40a2-a212-3ea0c8193a7a"
      },
      "execution_count": null,
      "outputs": [
        {
          "output_type": "stream",
          "name": "stdout",
          "text": [
            "[4 6]\n",
            "[10 12]\n",
            "[3 7]\n",
            "[ 9 13]\n"
          ]
        }
      ]
    },
    {
      "cell_type": "code",
      "source": [
        "import numpy as np\n",
        "#numbers = [1,2,3,4,5]\n",
        "np_numbers1 = np.array([[1,2],[3,4]])\n",
        "np_numbers2 = np.array([[4,5,6,7]])\n",
        "print(np_numbers1.T)\n",
        "print(np_numbers2.T)"
      ],
      "metadata": {
        "colab": {
          "base_uri": "https://localhost:8080/"
        },
        "id": "S-E_09nupGDI",
        "outputId": "dc90efd2-cbb7-4d2b-c23d-33bf733079c0"
      },
      "execution_count": null,
      "outputs": [
        {
          "output_type": "stream",
          "name": "stdout",
          "text": [
            "[[1 3]\n",
            " [2 4]]\n",
            "[[4]\n",
            " [5]\n",
            " [6]\n",
            " [7]]\n"
          ]
        }
      ]
    },
    {
      "cell_type": "code",
      "source": [
        "import numpy as np\n",
        "numbers = [1,2,3,4,5]\n",
        "np_numbers1 = np.array([numbers,numbers,numbers,numbers])\n",
        "print(np_numbers1)"
      ],
      "metadata": {
        "colab": {
          "base_uri": "https://localhost:8080/"
        },
        "id": "3Tp8u3tlpazv",
        "outputId": "6de4fed9-3f8b-4a9b-a8de-c5ad826a2248"
      },
      "execution_count": null,
      "outputs": [
        {
          "output_type": "stream",
          "name": "stdout",
          "text": [
            "[[1 2 3 4 5]\n",
            " [1 2 3 4 5]\n",
            " [1 2 3 4 5]\n",
            " [1 2 3 4 5]]\n"
          ]
        }
      ]
    },
    {
      "cell_type": "code",
      "source": [
        "import numpy as np\n",
        "numbers = np.array([[1,2],[3,4],[5,6,7]],dtype=object)\n",
        "#np_numbers1 = np.array([numbers,numbers,numbers,numbers])\n",
        "print(numbers)"
      ],
      "metadata": {
        "colab": {
          "base_uri": "https://localhost:8080/"
        },
        "id": "-5-9r4Sqra9e",
        "outputId": "f9b290cd-034b-4e2c-e388-92877bb55056"
      },
      "execution_count": null,
      "outputs": [
        {
          "output_type": "stream",
          "name": "stdout",
          "text": [
            "[list([1, 2]) list([3, 4]) list([5, 6, 7])]\n"
          ]
        }
      ]
    },
    {
      "cell_type": "code",
      "source": [
        "import numpy as np\n",
        "#numbers = [1,2,3,4,5]\n",
        "np_numbers1 = np.array([[1,2],[3,4],[5,6]])\n",
        "print(np_numbers1)\n",
        "print(np_numbers1.T)"
      ],
      "metadata": {
        "colab": {
          "base_uri": "https://localhost:8080/"
        },
        "id": "x9Ab4xbkxgiO",
        "outputId": "436d067c-f914-47bb-87a5-cf0780ac2555"
      },
      "execution_count": null,
      "outputs": [
        {
          "output_type": "stream",
          "name": "stdout",
          "text": [
            "[[1 2]\n",
            " [3 4]\n",
            " [5 6]]\n",
            "[[1 3 5]\n",
            " [2 4 6]]\n"
          ]
        }
      ]
    },
    {
      "cell_type": "code",
      "source": [
        "import numpy as np\n",
        "#numbers = [1,2,3,4,5]\n",
        "np_numbers1 = np.array([[1,2],[3,4],[5,6]])\n",
        "np_numbers2 = np.array([1,2,3,4,5,6])\n",
        "np_numbers3 = np.array([[1,2,3,4,5,6]])\n",
        "print(np.linalg.norm(np_numbers1,axis=1))\n",
        "#print(np.linalg.norm(np_numbers2,axis=))\n",
        "print(np.linalg.norm(np_numbers3,axis=1))"
      ],
      "metadata": {
        "colab": {
          "base_uri": "https://localhost:8080/"
        },
        "id": "GewqBM1wyVQV",
        "outputId": "e601fba5-1f01-4e7a-da64-0d89b80a918a"
      },
      "execution_count": null,
      "outputs": [
        {
          "output_type": "stream",
          "name": "stdout",
          "text": [
            "[2.23606798 5.         7.81024968]\n",
            "[9.53939201]\n"
          ]
        }
      ]
    },
    {
      "cell_type": "code",
      "source": [
        "import numpy as np\n",
        "#numbers = [1,2,3,4,5]\n",
        "np_numbers1 = np.array([1,2,3])\n",
        "np_numbers2 = np.array([4,5,6])\n",
        "print(np.sum(np_numbers1*np_numbers2))\n",
        "print(np.dot(np_numbers1,np_numbers2))\n",
        "print(np_numbers1@np_numbers2)"
      ],
      "metadata": {
        "colab": {
          "base_uri": "https://localhost:8080/"
        },
        "id": "MR91GdKSz78Q",
        "outputId": "e883c0c1-2fb3-40ca-884f-87ce7a0804fe"
      },
      "execution_count": null,
      "outputs": [
        {
          "output_type": "stream",
          "name": "stdout",
          "text": [
            "32\n",
            "32\n",
            "32\n"
          ]
        }
      ]
    },
    {
      "cell_type": "code",
      "source": [
        "nparray2 = np.array([[1, 1], [2, 2], [3, 3]])\n",
        "nparrayCentered = nparray2 - np.mean(nparray2, axis=0) \n",
        "print('Original matrix')\n",
        "print(nparray2)\n",
        "print('Centered by columns matrix')\n",
        "print(nparrayCentered)\n",
        "print('New mean by column')\n",
        "print(nparrayCentered.mean(axis=0))"
      ],
      "metadata": {
        "colab": {
          "base_uri": "https://localhost:8080/"
        },
        "id": "PxJGarba2O_o",
        "outputId": "45361625-1c16-4496-ad90-db293a372716"
      },
      "execution_count": null,
      "outputs": [
        {
          "output_type": "stream",
          "name": "stdout",
          "text": [
            "Original matrix\n",
            "[[1 1]\n",
            " [2 2]\n",
            " [3 3]]\n",
            "Centered by columns matrix\n",
            "[[-1. -1.]\n",
            " [ 0.  0.]\n",
            " [ 1.  1.]]\n",
            "New mean by column\n",
            "[0. 0.]\n"
          ]
        }
      ]
    },
    {
      "cell_type": "code",
      "source": [
        "nparray2 = np.array([[1, 1], [2, 2], [3, 3]])\n",
        "nparrayCentered = nparray2.T - np.mean(nparray2, axis=1) \n",
        "print('Original matrix')\n",
        "print(nparray2)\n",
        "print('Centered by columns matrix')\n",
        "print(nparrayCentered)\n",
        "print('New mean by column')\n",
        "print(nparrayCentered.mean(axis=0))"
      ],
      "metadata": {
        "colab": {
          "base_uri": "https://localhost:8080/"
        },
        "id": "VgfDKIHV2W7g",
        "outputId": "93fd8dc4-6530-4476-f188-ba057ff10fa5"
      },
      "execution_count": null,
      "outputs": [
        {
          "output_type": "stream",
          "name": "stdout",
          "text": [
            "Original matrix\n",
            "[[1 1]\n",
            " [2 2]\n",
            " [3 3]]\n",
            "Centered by columns matrix\n",
            "[[0. 0. 0.]\n",
            " [0. 0. 0.]]\n",
            "New mean by column\n",
            "[0. 0. 0.]\n"
          ]
        }
      ]
    },
    {
      "cell_type": "markdown",
      "source": [
        "Create Two numpy array of size 4 X 5 and 5 X 4."
      ],
      "metadata": {
        "id": "hlIuxEUG3JfT"
      }
    },
    {
      "cell_type": "code",
      "source": [
        "import numpy as np\n",
        "num1 = np.array([[1,2,3,4,5],\n",
        "                 [6,7,8,9,10],\n",
        "                 [11,12,13,14,15],\n",
        "                 [16,17,18,19,20]])\n",
        "num2 = np.array([[1,2,3,4],\n",
        "               [5,6,7,8],\n",
        "               [9,10,11,12],\n",
        "               [13,14,15,16],\n",
        "               [17,18,19,20]])\n",
        "print(num1)\n",
        "print(num2)"
      ],
      "metadata": {
        "colab": {
          "base_uri": "https://localhost:8080/"
        },
        "id": "KWZwR0AC3LX7",
        "outputId": "876febd2-30f0-4769-dc63-fec1c79d5386"
      },
      "execution_count": null,
      "outputs": [
        {
          "output_type": "stream",
          "name": "stdout",
          "text": [
            "[[ 1  2  3  4  5]\n",
            " [ 6  7  8  9 10]\n",
            " [11 12 13 14 15]\n",
            " [16 17 18 19 20]]\n",
            "[[ 1  2  3  4]\n",
            " [ 5  6  7  8]\n",
            " [ 9 10 11 12]\n",
            " [13 14 15 16]\n",
            " [17 18 19 20]]\n"
          ]
        }
      ]
    },
    {
      "cell_type": "markdown",
      "source": [
        "Perform matrix multiplication"
      ],
      "metadata": {
        "id": "uuwjyILp4VHs"
      }
    },
    {
      "cell_type": "code",
      "source": [
        "import numpy as np\n",
        "num1 = np.array([[1,2,3,4,5],\n",
        "                 [6,7,8,9,10],\n",
        "                 [11,12,13,14,15],\n",
        "                 [16,17,18,19,20]])\n",
        "num2 = np.array([[1,2,3,4],\n",
        "               [5,6,7,8],\n",
        "               [9,10,11,12],\n",
        "               [13,14,15,16],\n",
        "               [17,18,19,20]])\n",
        "print(np.dot(num1,num2))"
      ],
      "metadata": {
        "colab": {
          "base_uri": "https://localhost:8080/"
        },
        "id": "ViagDFFl4WCU",
        "outputId": "1d3c6cfe-8622-4ae9-b75b-216930f586c7"
      },
      "execution_count": null,
      "outputs": [
        {
          "output_type": "stream",
          "name": "stdout",
          "text": [
            "[[ 175  190  205  220]\n",
            " [ 400  440  480  520]\n",
            " [ 625  690  755  820]\n",
            " [ 850  940 1030 1120]]\n"
          ]
        }
      ]
    },
    {
      "cell_type": "markdown",
      "source": [
        "Perform elementwise matrix multiplication"
      ],
      "metadata": {
        "id": "gJDLMpSY414U"
      }
    },
    {
      "cell_type": "code",
      "source": [
        "import numpy as np\n",
        "num1 = np.array([[1,2,3,4,5],\n",
        "                 [6,7,8,9,10],\n",
        "                 [11,12,13,14,15],\n",
        "                 [16,17,18,19,20]])\n",
        "num2 = np.array([[1,2,3,4],\n",
        "               [5,6,7,8],\n",
        "               [9,10,11,12],\n",
        "               [13,14,15,16],\n",
        "               [17,18,19,20]])\n",
        "print(np.multiply(num1,num1))\n",
        "print(np.multiply(num2,num2))"
      ],
      "metadata": {
        "colab": {
          "base_uri": "https://localhost:8080/"
        },
        "id": "twTrVYzp46Dc",
        "outputId": "af8b18eb-edd7-4e3d-ef9d-3d086a89b5dd"
      },
      "execution_count": null,
      "outputs": [
        {
          "output_type": "stream",
          "name": "stdout",
          "text": [
            "[[  1   4   9  16  25]\n",
            " [ 36  49  64  81 100]\n",
            " [121 144 169 196 225]\n",
            " [256 289 324 361 400]]\n",
            "[[  1   4   9  16]\n",
            " [ 25  36  49  64]\n",
            " [ 81 100 121 144]\n",
            " [169 196 225 256]\n",
            " [289 324 361 400]]\n"
          ]
        }
      ]
    },
    {
      "cell_type": "markdown",
      "source": [
        "Find mean, median of the first matrix."
      ],
      "metadata": {
        "id": "mm1wIUZc5Ga8"
      }
    },
    {
      "cell_type": "code",
      "source": [
        "import numpy as np\n",
        "num1 = np.array([[1,2,3,4,5],\n",
        "                 [6,7,8,9,10],\n",
        "                 [11,12,13,14,15],\n",
        "                 [16,17,18,19,20]])\n",
        "num2 = np.array([[1,2,3,4],\n",
        "               [5,6,7,8],\n",
        "               [9,10,11,12],\n",
        "               [13,14,15,16],\n",
        "               [17,18,19,20]])\n",
        "print(np.mean(num1))"
      ],
      "metadata": {
        "colab": {
          "base_uri": "https://localhost:8080/"
        },
        "id": "o_GE5J8D5HK8",
        "outputId": "1b07e9d1-20cd-428d-e00b-9201ead81a53"
      },
      "execution_count": null,
      "outputs": [
        {
          "output_type": "stream",
          "name": "stdout",
          "text": [
            "10.5\n"
          ]
        }
      ]
    },
    {
      "cell_type": "markdown",
      "source": [
        "Get the transpose of that Matrix that you created. Create a square matrix and find its determinant."
      ],
      "metadata": {
        "id": "BwtQjSt35XT1"
      }
    },
    {
      "cell_type": "code",
      "source": [
        "import numpy as np\n",
        "num1 = np.array([[1,2,3,4,5],\n",
        "                 [6,7,8,9,10],\n",
        "                 [11,12,13,14,15],\n",
        "                 [16,17,18,19,20]])\n",
        "print(\"Matrix-1 \\n\",num1)\n",
        "print(\"Transpose Matrix-1 \\n\",num1.T)\n",
        "\n",
        "num2 = np.array([[50,29],\n",
        "               [30,44]])\n",
        "\n",
        "print(\"Matrix-2 \\n\",num2)\n",
        "print(\"Deteminant \\n\",np.linalg.det(num2))"
      ],
      "metadata": {
        "id": "SMzDvbCy5nX1",
        "colab": {
          "base_uri": "https://localhost:8080/"
        },
        "outputId": "e6fb928b-8286-4257-dc37-98d663f3705a"
      },
      "execution_count": null,
      "outputs": [
        {
          "output_type": "stream",
          "name": "stdout",
          "text": [
            "Matrix-1 \n",
            " [[ 1  2  3  4  5]\n",
            " [ 6  7  8  9 10]\n",
            " [11 12 13 14 15]\n",
            " [16 17 18 19 20]]\n",
            "Transpose Matrix-1 \n",
            " [[ 1  6 11 16]\n",
            " [ 2  7 12 17]\n",
            " [ 3  8 13 18]\n",
            " [ 4  9 14 19]\n",
            " [ 5 10 15 20]]\n",
            "Matrix-2 \n",
            " [[50 29]\n",
            " [30 44]]\n",
            "Deteminant \n",
            " 1330.0000000000002\n"
          ]
        }
      ]
    },
    {
      "cell_type": "markdown",
      "source": [
        "Obtain each row in the second column of the first array."
      ],
      "metadata": {
        "id": "U5OdzWLnTACf"
      }
    },
    {
      "cell_type": "code",
      "source": [
        "import numpy as np\n",
        "num1 = np.array([[1,2,3,4,5],\n",
        "                 [6,7,8,9,10],\n",
        "                 [11,12,13,14,15],\n",
        "                 [16,17,18,19,20]])\n",
        "print(num1[ : ,[1]])"
      ],
      "metadata": {
        "colab": {
          "base_uri": "https://localhost:8080/"
        },
        "id": "Ik0ODDiwTGEq",
        "outputId": "06b5fb3e-81f8-4d81-81ac-c1774e054fbf"
      },
      "execution_count": null,
      "outputs": [
        {
          "output_type": "stream",
          "name": "stdout",
          "text": [
            "[[ 2]\n",
            " [ 7]\n",
            " [12]\n",
            " [17]]\n"
          ]
        }
      ]
    },
    {
      "cell_type": "markdown",
      "source": [
        "NLTK Library"
      ],
      "metadata": {
        "id": "FPgAayvbs9LE"
      }
    },
    {
      "cell_type": "code",
      "source": [
        "import nltk\n",
        "from nltk.corpus import twitter_samples\n",
        "import matplotlib.pyplot as plt\n",
        "import random\n",
        "\n",
        "nltk.download('twitter_samples')\n",
        "\n",
        "all_positive_tweets = twitter_samples.strings('positive_tweets.json')\n",
        "all_negative_tweets = twitter_samples.strings('negative_tweets.json')\n",
        "\n",
        "print('Number of positive tweets: ', len(all_positive_tweets))\n",
        "print('Number of negative tweets: ', len(all_negative_tweets))"
      ],
      "metadata": {
        "colab": {
          "base_uri": "https://localhost:8080/"
        },
        "id": "QZ_nzoETs_p7",
        "outputId": "95272e79-85a0-443d-9953-bbafaa619e33"
      },
      "execution_count": null,
      "outputs": [
        {
          "output_type": "stream",
          "name": "stderr",
          "text": [
            "[nltk_data] Downloading package twitter_samples to /root/nltk_data...\n",
            "[nltk_data]   Package twitter_samples is already up-to-date!\n"
          ]
        },
        {
          "output_type": "stream",
          "name": "stdout",
          "text": [
            "Number of positive tweets:  5000\n",
            "Number of negative tweets:  5000\n"
          ]
        }
      ]
    },
    {
      "cell_type": "code",
      "source": [
        "import nltk\n",
        "from nltk.corpus import twitter_samples\n",
        "import matplotlib.pyplot as plt\n",
        "import random\n",
        "\n",
        "fig = plt.figure(figsize=(5,5))\n",
        "labels = 'ML-HAP-Lec', 'ML-SPS-Lec','ML-HAP-Lab','ML-SPS-Lab'\n",
        "sizes = [35, 35, 15,15]\n",
        "plt.pie(sizes, labels=labels, autopct='%.2f%%',\n",
        "shadow=True, startangle=90)\n",
        "plt.axis('equal')\n",
        "# Display the chart\n",
        "plt.show()"
      ],
      "metadata": {
        "colab": {
          "base_uri": "https://localhost:8080/",
          "height": 307
        },
        "id": "vF0DN8oBtg4R",
        "outputId": "792f5cdd-533c-43a8-95ca-03ac90e20dd8"
      },
      "execution_count": null,
      "outputs": [
        {
          "output_type": "display_data",
          "data": {
            "text/plain": [
              "<Figure size 360x360 with 1 Axes>"
            ],
            "image/png": "[encoded data removed]"
          },
          "metadata": {}
        }
      ]
    },
    {
      "cell_type": "code",
      "source": [
        "fig = plt.figure(figsize=(5, 5))\n",
        "labels = 'Positives', 'Negative'\n",
        "sizes = [len(all_positive_tweets), len(all_negative_tweets)]\n",
        "plt.pie(sizes, labels=labels, autopct='%1.1f%%',\n",
        "shadow=True, startangle=90)\n",
        "plt.axis('equal')\n",
        "plt.show()"
      ],
      "metadata": {
        "colab": {
          "base_uri": "https://localhost:8080/",
          "height": 303
        },
        "id": "S-7pTTDkt8AJ",
        "outputId": "ba4742e8-aedf-406c-9623-27ed1747fe8c"
      },
      "execution_count": null,
      "outputs": [
        {
          "output_type": "display_data",
          "data": {
            "text/plain": [
              "<Figure size 360x360 with 1 Axes>"
            ],
            "image/png": "[encoded data removed]"
          },
          "metadata": {}
        }
      ]
    },
    {
      "cell_type": "code",
      "source": [
        "print('\\033[92m' + all_positive_tweets[random.randint(0,5000)])\n",
        "print('\\033[91m' + all_negative_tweets[random.randint(0,5000)])"
      ],
      "metadata": {
        "colab": {
          "base_uri": "https://localhost:8080/"
        },
        "id": "WTBnXcpruSAb",
        "outputId": "4ae28a3d-9bec-4e4b-de6d-86d2200cf28b"
      },
      "execution_count": null,
      "outputs": [
        {
          "output_type": "stream",
          "name": "stdout",
          "text": [
            "\u001b[92mSomeone more mature than me taught me once how to hide your privacy. He was wise. :) Now it's time to me to grow up in some ways.\n",
            "\u001b[91mMissing that cute someone la!! :(\n"
          ]
        }
      ]
    },
    {
      "cell_type": "code",
      "source": [
        "tweet = all_positive_tweets[2277]\n",
        "print(tweet)\n",
        "nltk.download('stopwords')"
      ],
      "metadata": {
        "colab": {
          "base_uri": "https://localhost:8080/"
        },
        "id": "L2mGJwOOvOtY",
        "outputId": "a5750d4b-be00-4ac6-e130-e5d7599fff4e"
      },
      "execution_count": null,
      "outputs": [
        {
          "output_type": "stream",
          "name": "stdout",
          "text": [
            "My beautiful sunflowers on a sunny Friday morning off :) #sunflowers #favourites #happy #Friday off… https://t.co/3tfYom0N1i\n"
          ]
        },
        {
          "output_type": "stream",
          "name": "stderr",
          "text": [
            "[nltk_data] Downloading package stopwords to /root/nltk_data...\n",
            "[nltk_data]   Unzipping corpora/stopwords.zip.\n"
          ]
        },
        {
          "output_type": "execute_result",
          "data": {
            "text/plain": [
              "True"
            ]
          },
          "metadata": {},
          "execution_count": 32
        }
      ]
    },
    {
      "cell_type": "code",
      "source": [
        "import re\n",
        "import string\n",
        "from nltk.corpus import stopwords\n",
        "from nltk.stem import PorterStemmer\n",
        "from nltk.tokenize import TweetTokenizer\n",
        "from nltk.stem import WordNetLemmatizer"
      ],
      "metadata": {
        "id": "XIVu2s0cvcmb"
      },
      "execution_count": null,
      "outputs": []
    },
    {
      "cell_type": "code",
      "source": [
        "print('\\033[92m' + tweet)\n",
        "print('\\033[94m')\n",
        "tweet2 = re.sub(r'https?:\\/\\/.*[\\r\\n]*', '', tweet)\n",
        "tweet2 = re.sub(r'#', '', tweet2)\n",
        "print(tweet2)"
      ],
      "metadata": {
        "colab": {
          "base_uri": "https://localhost:8080/"
        },
        "id": "qa_3mkHBv46W",
        "outputId": "c78c8c91-10e2-4dfa-937b-5975d25ecf03"
      },
      "execution_count": null,
      "outputs": [
        {
          "output_type": "stream",
          "name": "stdout",
          "text": [
            "\u001b[92mMy beautiful sunflowers on a sunny Friday morning off :) #sunflowers #favourites #happy #Friday off… https://t.co/3tfYom0N1i\n",
            "\u001b[94m\n",
            "My beautiful sunflowers on a sunny Friday morning off :) sunflowers favourites happy Friday off… \n"
          ]
        }
      ]
    },
    {
      "cell_type": "code",
      "source": [
        "print()\n",
        "print('\\033[92m' + tweet2)\n",
        "print('\\033[94m')\n",
        "tokenizer = TweetTokenizer(preserve_case=False)\n",
        "tweet_tokens = tokenizer.tokenize(tweet2)\n",
        "print()\n",
        "print('Tokenized string:')\n",
        "print(tweet_tokens)"
      ],
      "metadata": {
        "colab": {
          "base_uri": "https://localhost:8080/"
        },
        "id": "cWj-vogywQ59",
        "outputId": "6b133ffb-5b52-4d8b-c735-56c53811a57c"
      },
      "execution_count": null,
      "outputs": [
        {
          "output_type": "stream",
          "name": "stdout",
          "text": [
            "\n",
            "\u001b[92mMy beautiful sunflowers on a sunny Friday morning off :) sunflowers favourites happy Friday off… \n",
            "\u001b[94m\n",
            "\n",
            "Tokenized string:\n",
            "['my', 'beautiful', 'sunflowers', 'on', 'a', 'sunny', 'friday', 'morning', 'off', ':)', 'sunflowers', 'favourites', 'happy', 'friday', 'off', '…']\n"
          ]
        }
      ]
    },
    {
      "cell_type": "code",
      "source": [
        "stopwords_english = stopwords.words('english')\n",
        "print('Stop words\\n')\n",
        "print(stopwords_english)\n",
        "print('\\nPunctuation\\n')\n",
        "print(string.punctuation)\n"
      ],
      "metadata": {
        "colab": {
          "base_uri": "https://localhost:8080/"
        },
        "id": "tlMCPK64wWJO",
        "outputId": "bb12b9dd-136c-4c7c-accc-c78cd00ad6f4"
      },
      "execution_count": null,
      "outputs": [
        {
          "output_type": "stream",
          "name": "stdout",
          "text": [
            "Stop words\n",
            "\n",
            "['i', 'me', 'my', 'myself', 'we', 'our', 'ours', 'ourselves', 'you', \"you're\", \"you've\", \"you'll\", \"you'd\", 'your', 'yours', 'yourself', 'yourselves', 'he', 'him', 'his', 'himself', 'she', \"she's\", 'her', 'hers', 'herself', 'it', \"it's\", 'its', 'itself', 'they', 'them', 'their', 'theirs', 'themselves', 'what', 'which', 'who', 'whom', 'this', 'that', \"that'll\", 'these', 'those', 'am', 'is', 'are', 'was', 'were', 'be', 'been', 'being', 'have', 'has', 'had', 'having', 'do', 'does', 'did', 'doing', 'a', 'an', 'the', 'and', 'but', 'if', 'or', 'because', 'as', 'until', 'while', 'of', 'at', 'by', 'for', 'with', 'about', 'against', 'between', 'into', 'through', 'during', 'before', 'after', 'above', 'below', 'to', 'from', 'up', 'down', 'in', 'out', 'on', 'off', 'over', 'under', 'again', 'further', 'then', 'once', 'here', 'there', 'when', 'where', 'why', 'how', 'all', 'any', 'both', 'each', 'few', 'more', 'most', 'other', 'some', 'such', 'no', 'nor', 'not', 'only', 'own', 'same', 'so', 'than', 'too', 'very', 's', 't', 'can', 'will', 'just', 'don', \"don't\", 'should', \"should've\", 'now', 'd', 'll', 'm', 'o', 're', 've', 'y', 'ain', 'aren', \"aren't\", 'couldn', \"couldn't\", 'didn', \"didn't\", 'doesn', \"doesn't\", 'hadn', \"hadn't\", 'hasn', \"hasn't\", 'haven', \"haven't\", 'isn', \"isn't\", 'ma', 'mightn', \"mightn't\", 'mustn', \"mustn't\", 'needn', \"needn't\", 'shan', \"shan't\", 'shouldn', \"shouldn't\", 'wasn', \"wasn't\", 'weren', \"weren't\", 'won', \"won't\", 'wouldn', \"wouldn't\"]\n",
            "\n",
            "Punctuation\n",
            "\n",
            "!\"#$%&'()*+,-./:;<=>?@[\\]^_`{|}~\n"
          ]
        }
      ]
    },
    {
      "cell_type": "code",
      "source": [
        "print()\n",
        "print('\\033[92m')\n",
        "print(tweet_tokens)\n",
        "print('\\033[94m')\n",
        "tweets_clean = []\n",
        "for word in tweet_tokens:\n",
        "  if (word not in stopwords_english and word not in string.punctuation):\n",
        "    tweets_clean.append(word)\n",
        "\n",
        "print('removed stop words and punctuation:')\n",
        "print(tweets_clean)"
      ],
      "metadata": {
        "colab": {
          "base_uri": "https://localhost:8080/"
        },
        "id": "AyFwIYw1whWD",
        "outputId": "7fcb0d61-32c0-4db5-ad67-bc17c8a01dc9"
      },
      "execution_count": null,
      "outputs": [
        {
          "output_type": "stream",
          "name": "stdout",
          "text": [
            "\n",
            "\u001b[92m\n",
            "['my', 'beautiful', 'sunflowers', 'on', 'a', 'sunny', 'friday', 'morning', 'off', ':)', 'sunflowers', 'favourites', 'happy', 'friday', 'off', '…']\n",
            "\u001b[94m\n",
            "removed stop words and punctuation:\n",
            "['beautiful', 'sunflowers', 'sunny', 'friday', 'morning', ':)', 'sunflowers', 'favourites', 'happy', 'friday', '…']\n"
          ]
        }
      ]
    }
  ]
}